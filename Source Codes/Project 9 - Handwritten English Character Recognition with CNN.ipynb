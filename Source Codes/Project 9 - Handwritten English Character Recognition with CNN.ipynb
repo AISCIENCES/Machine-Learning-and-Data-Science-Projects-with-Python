{
 "cells": [
  {
   "cell_type": "markdown",
   "metadata": {},
   "source": [
    "## 9.1. Importing Required Libraries "
   ]
  },
  {
   "cell_type": "code",
   "execution_count": null,
   "metadata": {},
   "outputs": [],
   "source": [
    "import numpy as np\n",
    "import matplotlib.pyplot as plt\n",
    "\n",
    "from tensorflow.keras.layers import Input,Conv2D, Dense, Flatten, Dropout, MaxPool2D\n",
    "\n",
    "from tensorflow.keras.models import Model\n"
   ]
  },
  {
   "cell_type": "markdown",
   "metadata": {},
   "source": [
    "## 9.2. Importing the Dataset\n"
   ]
  },
  {
   "cell_type": "code",
   "execution_count": 7,
   "metadata": {},
   "outputs": [],
   "source": [
    "## https://www.nist.gov/itl/products-and-services/emnist-dataset\n",
    "## pip install mnist\n",
    "from emnist import list_datasets"
   ]
  },
  {
   "cell_type": "code",
   "execution_count": 8,
   "metadata": {},
   "outputs": [
    {
     "name": "stderr",
     "output_type": "stream",
     "text": [
      "Downloading emnist.zip: 536MB [31:15, 299kB/s]  \n"
     ]
    },
    {
     "data": {
      "text/plain": [
       "['balanced', 'byclass', 'bymerge', 'digits', 'letters', 'mnist']"
      ]
     },
     "execution_count": 8,
     "metadata": {},
     "output_type": "execute_result"
    }
   ],
   "source": [
    "list_datasets()"
   ]
  },
  {
   "cell_type": "code",
   "execution_count": 91,
   "metadata": {},
   "outputs": [],
   "source": [
    "from emnist import extract_training_samples\n",
    "training_images, training_labels = extract_training_samples('letters')\n"
   ]
  },
  {
   "cell_type": "code",
   "execution_count": 92,
   "metadata": {},
   "outputs": [],
   "source": [
    "from emnist import extract_test_samples\n",
    "test_images, test_labels = extract_test_samples('letters')\n"
   ]
  },
  {
   "cell_type": "markdown",
   "metadata": {},
   "source": [
    "## 9.3. Data Analysis and Preprocessing"
   ]
  },
  {
   "cell_type": "code",
   "execution_count": 93,
   "metadata": {},
   "outputs": [
    {
     "name": "stdout",
     "output_type": "stream",
     "text": [
      "(124800, 28, 28)\n",
      "(20800, 28, 28)\n"
     ]
    }
   ],
   "source": [
    "print(training_images.shape)\n",
    "print(test_images.shape)"
   ]
  },
  {
   "cell_type": "code",
   "execution_count": 94,
   "metadata": {},
   "outputs": [
    {
     "name": "stdout",
     "output_type": "stream",
     "text": [
      "(124800,)\n",
      "(20800,)\n"
     ]
    }
   ],
   "source": [
    "print(training_labels.shape)\n",
    "print(test_labels.shape)"
   ]
  },
  {
   "cell_type": "code",
   "execution_count": 95,
   "metadata": {},
   "outputs": [
    {
     "data": {
      "image/png": "[encoded data removed]",
      "text/plain": [
       "<Figure size 432x288 with 2 Axes>"
      ]
     },
     "metadata": {
      "needs_background": "light"
     },
     "output_type": "display_data"
    }
   ],
   "source": [
    "plt.figure()\n",
    "plt.imshow(test_images[3000])\n",
    "plt.colorbar()\n",
    "plt.grid(False)\n",
    "plt.show()\n"
   ]
  },
  {
   "cell_type": "code",
   "execution_count": 96,
   "metadata": {},
   "outputs": [
    {
     "name": "stdout",
     "output_type": "stream",
     "text": [
      "4\n"
     ]
    }
   ],
   "source": [
    "print(test_labels[3000])"
   ]
  },
  {
   "cell_type": "code",
   "execution_count": 97,
   "metadata": {},
   "outputs": [
    {
     "data": {
      "text/plain": [
       "array([ 1,  2,  3,  4,  5,  6,  7,  8,  9, 10, 11, 12, 13, 14, 15, 16, 17,\n",
       "       18, 19, 20, 21, 22, 23, 24, 25, 26], dtype=uint8)"
      ]
     },
     "execution_count": 97,
     "metadata": {},
     "output_type": "execute_result"
    }
   ],
   "source": [
    "np.unique(test_labels)"
   ]
  },
  {
   "cell_type": "code",
   "execution_count": 98,
   "metadata": {},
   "outputs": [],
   "source": [
    "output_classes = len(set(training_labels))"
   ]
  },
  {
   "cell_type": "code",
   "execution_count": 99,
   "metadata": {},
   "outputs": [
    {
     "name": "stdout",
     "output_type": "stream",
     "text": [
      "(124800, 28, 28, 1)\n"
     ]
    }
   ],
   "source": [
    "training_images = np.expand_dims(training_images, -1)\n",
    "test_images = np.expand_dims(test_images, -1)\n",
    "print(training_images.shape)\n"
   ]
  },
  {
   "cell_type": "markdown",
   "metadata": {},
   "source": [
    "## 9.4. Training and Fitting CNN Model"
   ]
  },
  {
   "cell_type": "code",
   "execution_count": 100,
   "metadata": {},
   "outputs": [],
   "source": [
    "input_layer = Input(shape = training_images[0].shape )\n",
    "\n",
    "conv1 = Conv2D(32, (3,3), strides = 2, activation= 'relu')(input_layer)\n",
    "\n",
    "maxpool1 = MaxPool2D(2, 2)(conv1)\n",
    "\n",
    "conv2 = Conv2D(64, (3,3), strides = 2, activation= 'relu')(maxpool1)\n",
    "\n",
    "flat1 = Flatten()(conv2)\n",
    "\n",
    "drop1 = Dropout(0.2)(flat1)\n",
    "\n",
    "dense1 = Dense(512, activation = 'relu')(drop1)\n",
    "\n",
    "drop2  = Dropout(0.2)(dense1)\n",
    "\n",
    "output_layer = Dense(output_classes+1, activation= 'softmax')(drop2)\n"
   ]
  },
  {
   "cell_type": "code",
   "execution_count": 101,
   "metadata": {},
   "outputs": [],
   "source": [
    "model = Model(input_layer, output_layer)"
   ]
  },
  {
   "cell_type": "code",
   "execution_count": 102,
   "metadata": {},
   "outputs": [],
   "source": [
    "model.compile(optimizer = 'adam', loss= 'sparse_categorical_crossentropy', metrics =['accuracy'])"
   ]
  },
  {
   "cell_type": "code",
   "execution_count": 104,
   "metadata": {},
   "outputs": [
    {
     "name": "stdout",
     "output_type": "stream",
     "text": [
      "Epoch 1/20\n",
      "3900/3900 [==============================] - 16s 4ms/step - loss: 1.0122 - accuracy: 0.6963 - val_loss: 0.4976 - val_accuracy: 0.8361\n",
      "Epoch 2/20\n",
      "3900/3900 [==============================] - 15s 4ms/step - loss: 0.5888 - accuracy: 0.8063 - val_loss: 0.4431 - val_accuracy: 0.8508\n",
      "Epoch 3/20\n",
      "3900/3900 [==============================] - 16s 4ms/step - loss: 0.5269 - accuracy: 0.8261 - val_loss: 0.4340 - val_accuracy: 0.8592\n",
      "Epoch 4/20\n",
      "3900/3900 [==============================] - 18s 5ms/step - loss: 0.4958 - accuracy: 0.8346 - val_loss: 0.4029 - val_accuracy: 0.8654\n",
      "Epoch 5/20\n",
      "3900/3900 [==============================] - 17s 4ms/step - loss: 0.4832 - accuracy: 0.8396 - val_loss: 0.3913 - val_accuracy: 0.8698\n",
      "Epoch 6/20\n",
      "3900/3900 [==============================] - 18s 5ms/step - loss: 0.4696 - accuracy: 0.8424 - val_loss: 0.3823 - val_accuracy: 0.8720\n",
      "Epoch 7/20\n",
      "3900/3900 [==============================] - 18s 5ms/step - loss: 0.4633 - accuracy: 0.8451 - val_loss: 0.3877 - val_accuracy: 0.8702\n",
      "Epoch 8/20\n",
      "3900/3900 [==============================] - 17s 4ms/step - loss: 0.4590 - accuracy: 0.8478 - val_loss: 0.4049 - val_accuracy: 0.8696\n",
      "Epoch 9/20\n",
      "3900/3900 [==============================] - 16s 4ms/step - loss: 0.4535 - accuracy: 0.8490 - val_loss: 0.3952 - val_accuracy: 0.8708\n",
      "Epoch 10/20\n",
      "3900/3900 [==============================] - 17s 4ms/step - loss: 0.4474 - accuracy: 0.8501 - val_loss: 0.3959 - val_accuracy: 0.8685\n",
      "Epoch 11/20\n",
      "3900/3900 [==============================] - 16s 4ms/step - loss: 0.4430 - accuracy: 0.8518 - val_loss: 0.4029 - val_accuracy: 0.8682\n",
      "Epoch 12/20\n",
      "3900/3900 [==============================] - 16s 4ms/step - loss: 0.4427 - accuracy: 0.8509 - val_loss: 0.3882 - val_accuracy: 0.8709\n",
      "Epoch 13/20\n",
      "3900/3900 [==============================] - 18s 5ms/step - loss: 0.4423 - accuracy: 0.8520 - val_loss: 0.3911 - val_accuracy: 0.8723\n",
      "Epoch 14/20\n",
      "3900/3900 [==============================] - 20s 5ms/step - loss: 0.4358 - accuracy: 0.8549 - val_loss: 0.3935 - val_accuracy: 0.8709\n",
      "Epoch 15/20\n",
      "3900/3900 [==============================] - 22s 6ms/step - loss: 0.4399 - accuracy: 0.8530 - val_loss: 0.4231 - val_accuracy: 0.8667\n",
      "Epoch 16/20\n",
      "3900/3900 [==============================] - 19s 5ms/step - loss: 0.4402 - accuracy: 0.8511 - val_loss: 0.4051 - val_accuracy: 0.8657\n",
      "Epoch 17/20\n",
      "3900/3900 [==============================] - 19s 5ms/step - loss: 0.4336 - accuracy: 0.8551 - val_loss: 0.4014 - val_accuracy: 0.8675\n",
      "Epoch 18/20\n",
      "3900/3900 [==============================] - 22s 6ms/step - loss: 0.4323 - accuracy: 0.8537 - val_loss: 0.4121 - val_accuracy: 0.8692\n",
      "Epoch 19/20\n",
      "3900/3900 [==============================] - 21s 5ms/step - loss: 0.4305 - accuracy: 0.8550 - val_loss: 0.3917 - val_accuracy: 0.8737\n",
      "Epoch 20/20\n",
      "3900/3900 [==============================] - 19s 5ms/step - loss: 0.4262 - accuracy: 0.8568 - val_loss: 0.3962 - val_accuracy: 0.8706\n"
     ]
    }
   ],
   "source": [
    "model_history = model.fit(training_images, training_labels, batch_size = 32, epochs=20, validation_data=(test_images, test_labels), verbose=1)\n",
    "\n"
   ]
  },
  {
   "cell_type": "markdown",
   "metadata": {},
   "source": [
    "## 9.5. Model Evaluation"
   ]
  },
  {
   "cell_type": "code",
   "execution_count": 105,
   "metadata": {},
   "outputs": [
    {
     "data": {
      "text/plain": [
       "<matplotlib.legend.Legend at 0x1ce4ca15160>"
      ]
     },
     "execution_count": 105,
     "metadata": {},
     "output_type": "execute_result"
    },
    {
     "data": {
      "image/png": "[encoded data removed]",
      "text/plain": [
       "<Figure size 432x288 with 1 Axes>"
      ]
     },
     "metadata": {
      "needs_background": "light"
     },
     "output_type": "display_data"
    }
   ],
   "source": [
    "import matplotlib.pyplot as plt\n",
    "\n",
    "plt.plot(model_history.history['accuracy'], label = 'accuracy')\n",
    "plt.plot(model_history.history['val_accuracy'], label = 'val_accuracy')\n",
    "plt.legend(['train','test'], loc='lower left')\n"
   ]
  },
  {
   "cell_type": "code",
   "execution_count": 106,
   "metadata": {},
   "outputs": [
    {
     "data": {
      "text/plain": [
       "<matplotlib.legend.Legend at 0x1ce4c4e8910>"
      ]
     },
     "execution_count": 106,
     "metadata": {},
     "output_type": "execute_result"
    },
    {
     "data": {
      "image/png": "[encoded data removed]",
      "text/plain": [
       "<Figure size 432x288 with 1 Axes>"
      ]
     },
     "metadata": {
      "needs_background": "light"
     },
     "output_type": "display_data"
    }
   ],
   "source": [
    "import matplotlib.pyplot as plt\n",
    "\n",
    "plt.plot(model_history.history['loss'], label = 'loss')\n",
    "plt.plot(model_history.history['val_loss'], label = 'val_loss')\n",
    "plt.legend(['train','test'], loc='lower left')\n"
   ]
  },
  {
   "cell_type": "markdown",
   "metadata": {},
   "source": [
    "## 9.6. Making Prediction on Single Image"
   ]
  },
  {
   "cell_type": "code",
   "execution_count": 124,
   "metadata": {},
   "outputs": [],
   "source": [
    "from emnist import extract_test_samples\n",
    "test_images, test_labels = extract_test_samples('letters')\n"
   ]
  },
  {
   "cell_type": "code",
   "execution_count": 125,
   "metadata": {},
   "outputs": [
    {
     "data": {
      "image/png": "[encoded data removed]",
      "text/plain": [
       "<Figure size 432x288 with 2 Axes>"
      ]
     },
     "metadata": {
      "needs_background": "light"
     },
     "output_type": "display_data"
    }
   ],
   "source": [
    "plt.figure()\n",
    "plt.imshow(test_images[2000])\n",
    "plt.colorbar()\n",
    "plt.grid(False)\n",
    "plt.show()"
   ]
  },
  {
   "cell_type": "code",
   "execution_count": 126,
   "metadata": {},
   "outputs": [
    {
     "name": "stdout",
     "output_type": "stream",
     "text": [
      "3\n"
     ]
    }
   ],
   "source": [
    "print(test_labels[2000])"
   ]
  },
  {
   "cell_type": "code",
   "execution_count": 131,
   "metadata": {},
   "outputs": [
    {
     "name": "stdout",
     "output_type": "stream",
     "text": [
      "3\n"
     ]
    }
   ],
   "source": [
    "output = model.predict(test_images)\n",
    "prediction = np.argmax(output[2000])\n",
    "print(prediction)\n"
   ]
  },
  {
   "cell_type": "markdown",
   "metadata": {},
   "source": [
    "## Exercise 9.1\n",
    "\n",
    "\n",
    "**Question 1:**\n",
    "\n",
    "Dropout layer is added in a TensorFlow Keras neural network to:\n",
    "\n",
    "A. Increase Accuracy\n",
    "\n",
    "B. Reduce Overfitting\n",
    "\n",
    "C. Reduce Loss\n",
    "\n",
    "D. Increase Overfitting\n",
    "\n",
    "**Answer: B**\n",
    "    \n",
    "\n",
    "**Question 2:**\n",
    "\n",
    "In Keras Functional API, which of the following functions is used to add layers to a neural network model?\n",
    "\n",
    "A. add()\n",
    "\n",
    "B. append()\n",
    "\n",
    "C. insert()\n",
    " \n",
    "D. None of the above()\n",
    "\n",
    "**Answer: D**\n",
    "    \n",
    "    \n",
    "**Question 3:**\n",
    "\n",
    "Which of the following functions can be used to add a new dimension to a numpy array?\n",
    "\n",
    "A. add_dims()\n",
    "\n",
    "B. append_dims()\n",
    "\n",
    "C. expand_dims()\n",
    " \n",
    "D. insert_dims()\n",
    "\n",
    "**Answer: C**\n"
   ]
  },
  {
   "cell_type": "code",
   "execution_count": null,
   "metadata": {},
   "outputs": [],
   "source": []
  }
 ],
 "metadata": {
  "kernelspec": {
   "display_name": "Python 3",
   "language": "python",
   "name": "python3"
  },
  "language_info": {
   "codemirror_mode": {
    "name": "ipython",
    "version": 3
   },
   "file_extension": ".py",
   "mimetype": "text/x-python",
   "name": "python",
   "nbconvert_exporter": "python",
   "pygments_lexer": "ipython3",
   "version": "3.8.3"
  }
 },
 "nbformat": 4,
 "nbformat_minor": 4
}
