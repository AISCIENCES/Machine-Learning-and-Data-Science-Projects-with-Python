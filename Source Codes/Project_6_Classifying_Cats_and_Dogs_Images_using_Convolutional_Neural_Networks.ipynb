{
  "nbformat": 4,
  "nbformat_minor": 0,
  "metadata": {
    "colab": {
      "name": "Project 6 - Classifying Cats and Dogs Images using Convolutional Neural Networks",
      "provenance": [],
      "collapsed_sections": []
    },
    "kernelspec": {
      "name": "python3",
      "display_name": "Python 3"
    },
    "accelerator": "TPU"
  },
  "cells": [
    {
      "cell_type": "code",
      "metadata": {
        "id": "Jqu6aT43ch5y",
        "outputId": "95b59a73-2be0-4e54-f9b3-604f2bc3f606",
        "colab": {
          "base_uri": "https://localhost:8080/"
        }
      },
      "source": [
        "pip install --upgrade tensorflow"
      ],
      "execution_count": 1,
      "outputs": [
        {
          "output_type": "stream",
          "text": [
            "Collecting tensorflow\n",
            "\u001b[?25l  Downloading https://files.pythonhosted.org/packages/ad/ad/769c195c72ac72040635c66cd9ba7b0f4b4fc1ac67e59b99fa6988446c22/tensorflow-2.3.1-cp36-cp36m-manylinux2010_x86_64.whl (320.4MB)\n",
            "\u001b[K     |████████████████████████████████| 320.4MB 35kB/s \n",
            "\u001b[?25hRequirement already satisfied, skipping upgrade: six>=1.12.0 in /usr/local/lib/python3.6/dist-packages (from tensorflow) (1.15.0)\n",
            "Requirement already satisfied, skipping upgrade: astunparse==1.6.3 in /usr/local/lib/python3.6/dist-packages (from tensorflow) (1.6.3)\n",
            "Requirement already satisfied, skipping upgrade: gast==0.3.3 in /usr/local/lib/python3.6/dist-packages (from tensorflow) (0.3.3)\n",
            "Requirement already satisfied, skipping upgrade: termcolor>=1.1.0 in /usr/local/lib/python3.6/dist-packages (from tensorflow) (1.1.0)\n",
            "Requirement already satisfied, skipping upgrade: h5py<2.11.0,>=2.10.0 in /usr/local/lib/python3.6/dist-packages (from tensorflow) (2.10.0)\n",
            "Requirement already satisfied, skipping upgrade: opt-einsum>=2.3.2 in /usr/local/lib/python3.6/dist-packages (from tensorflow) (3.3.0)\n",
            "Requirement already satisfied, skipping upgrade: grpcio>=1.8.6 in /usr/local/lib/python3.6/dist-packages (from tensorflow) (1.33.1)\n",
            "Requirement already satisfied, skipping upgrade: protobuf>=3.9.2 in /usr/local/lib/python3.6/dist-packages (from tensorflow) (3.12.4)\n",
            "Requirement already satisfied, skipping upgrade: wheel>=0.26 in /usr/local/lib/python3.6/dist-packages (from tensorflow) (0.35.1)\n",
            "Requirement already satisfied, skipping upgrade: google-pasta>=0.1.8 in /usr/local/lib/python3.6/dist-packages (from tensorflow) (0.2.0)\n",
            "Requirement already satisfied, skipping upgrade: numpy<1.19.0,>=1.16.0 in /usr/local/lib/python3.6/dist-packages (from tensorflow) (1.18.5)\n",
            "Requirement already satisfied, skipping upgrade: keras-preprocessing<1.2,>=1.1.1 in /usr/local/lib/python3.6/dist-packages (from tensorflow) (1.1.2)\n",
            "Requirement already satisfied, skipping upgrade: tensorboard<3,>=2.3.0 in /usr/local/lib/python3.6/dist-packages (from tensorflow) (2.3.0)\n",
            "Requirement already satisfied, skipping upgrade: tensorflow-estimator<2.4.0,>=2.3.0 in /usr/local/lib/python3.6/dist-packages (from tensorflow) (2.3.0)\n",
            "Requirement already satisfied, skipping upgrade: absl-py>=0.7.0 in /usr/local/lib/python3.6/dist-packages (from tensorflow) (0.10.0)\n",
            "Requirement already satisfied, skipping upgrade: wrapt>=1.11.1 in /usr/local/lib/python3.6/dist-packages (from tensorflow) (1.12.1)\n",
            "Requirement already satisfied, skipping upgrade: setuptools in /usr/local/lib/python3.6/dist-packages (from protobuf>=3.9.2->tensorflow) (50.3.2)\n",
            "Requirement already satisfied, skipping upgrade: tensorboard-plugin-wit>=1.6.0 in /usr/local/lib/python3.6/dist-packages (from tensorboard<3,>=2.3.0->tensorflow) (1.7.0)\n",
            "Requirement already satisfied, skipping upgrade: google-auth<2,>=1.6.3 in /usr/local/lib/python3.6/dist-packages (from tensorboard<3,>=2.3.0->tensorflow) (1.17.2)\n",
            "Requirement already satisfied, skipping upgrade: google-auth-oauthlib<0.5,>=0.4.1 in /usr/local/lib/python3.6/dist-packages (from tensorboard<3,>=2.3.0->tensorflow) (0.4.1)\n",
            "Requirement already satisfied, skipping upgrade: werkzeug>=0.11.15 in /usr/local/lib/python3.6/dist-packages (from tensorboard<3,>=2.3.0->tensorflow) (1.0.1)\n",
            "Requirement already satisfied, skipping upgrade: markdown>=2.6.8 in /usr/local/lib/python3.6/dist-packages (from tensorboard<3,>=2.3.0->tensorflow) (3.3.2)\n",
            "Requirement already satisfied, skipping upgrade: requests<3,>=2.21.0 in /usr/local/lib/python3.6/dist-packages (from tensorboard<3,>=2.3.0->tensorflow) (2.23.0)\n",
            "Requirement already satisfied, skipping upgrade: rsa<5,>=3.1.4; python_version >= \"3\" in /usr/local/lib/python3.6/dist-packages (from google-auth<2,>=1.6.3->tensorboard<3,>=2.3.0->tensorflow) (4.6)\n",
            "Requirement already satisfied, skipping upgrade: cachetools<5.0,>=2.0.0 in /usr/local/lib/python3.6/dist-packages (from google-auth<2,>=1.6.3->tensorboard<3,>=2.3.0->tensorflow) (4.1.1)\n",
            "Requirement already satisfied, skipping upgrade: pyasn1-modules>=0.2.1 in /usr/local/lib/python3.6/dist-packages (from google-auth<2,>=1.6.3->tensorboard<3,>=2.3.0->tensorflow) (0.2.8)\n",
            "Requirement already satisfied, skipping upgrade: requests-oauthlib>=0.7.0 in /usr/local/lib/python3.6/dist-packages (from google-auth-oauthlib<0.5,>=0.4.1->tensorboard<3,>=2.3.0->tensorflow) (1.3.0)\n",
            "Requirement already satisfied, skipping upgrade: importlib-metadata; python_version < \"3.8\" in /usr/local/lib/python3.6/dist-packages (from markdown>=2.6.8->tensorboard<3,>=2.3.0->tensorflow) (2.0.0)\n",
            "Requirement already satisfied, skipping upgrade: urllib3!=1.25.0,!=1.25.1,<1.26,>=1.21.1 in /usr/local/lib/python3.6/dist-packages (from requests<3,>=2.21.0->tensorboard<3,>=2.3.0->tensorflow) (1.24.3)\n",
            "Requirement already satisfied, skipping upgrade: idna<3,>=2.5 in /usr/local/lib/python3.6/dist-packages (from requests<3,>=2.21.0->tensorboard<3,>=2.3.0->tensorflow) (2.10)\n",
            "Requirement already satisfied, skipping upgrade: chardet<4,>=3.0.2 in /usr/local/lib/python3.6/dist-packages (from requests<3,>=2.21.0->tensorboard<3,>=2.3.0->tensorflow) (3.0.4)\n",
            "Requirement already satisfied, skipping upgrade: certifi>=2017.4.17 in /usr/local/lib/python3.6/dist-packages (from requests<3,>=2.21.0->tensorboard<3,>=2.3.0->tensorflow) (2020.6.20)\n",
            "Requirement already satisfied, skipping upgrade: pyasn1>=0.1.3 in /usr/local/lib/python3.6/dist-packages (from rsa<5,>=3.1.4; python_version >= \"3\"->google-auth<2,>=1.6.3->tensorboard<3,>=2.3.0->tensorflow) (0.4.8)\n",
            "Requirement already satisfied, skipping upgrade: oauthlib>=3.0.0 in /usr/local/lib/python3.6/dist-packages (from requests-oauthlib>=0.7.0->google-auth-oauthlib<0.5,>=0.4.1->tensorboard<3,>=2.3.0->tensorflow) (3.1.0)\n",
            "Requirement already satisfied, skipping upgrade: zipp>=0.5 in /usr/local/lib/python3.6/dist-packages (from importlib-metadata; python_version < \"3.8\"->markdown>=2.6.8->tensorboard<3,>=2.3.0->tensorflow) (3.3.1)\n",
            "Installing collected packages: tensorflow\n",
            "  Found existing installation: tensorflow 2.3.0\n",
            "    Uninstalling tensorflow-2.3.0:\n",
            "      Successfully uninstalled tensorflow-2.3.0\n",
            "Successfully installed tensorflow-2.3.1\n"
          ],
          "name": "stdout"
        }
      ]
    },
    {
      "cell_type": "code",
      "metadata": {
        "id": "_IJkK4OectEr",
        "outputId": "55bb42bf-c23d-4703-9b88-27dbdd0b25e7",
        "colab": {
          "base_uri": "https://localhost:8080/"
        }
      },
      "source": [
        "# mounting google drive\n",
        "from google.colab import drive\n",
        "drive.mount('/gdrive')"
      ],
      "execution_count": 2,
      "outputs": [
        {
          "output_type": "stream",
          "text": [
            "Mounted at /gdrive\n"
          ],
          "name": "stdout"
        }
      ]
    },
    {
      "cell_type": "code",
      "metadata": {
        "id": "hPooRsItczM5"
      },
      "source": [
        "from tensorflow.keras.models import Sequential\n",
        "from tensorflow.keras.layers import Conv2D\n",
        "from tensorflow.keras.layers import MaxPooling2D\n",
        "from tensorflow.keras.layers import Flatten\n",
        "from tensorflow.keras.layers import Dense\n"
      ],
      "execution_count": 3,
      "outputs": []
    },
    {
      "cell_type": "markdown",
      "metadata": {
        "id": "rwimVXbweMtg"
      },
      "source": [
        "### 6.2.1. Creating Model Architecture"
      ]
    },
    {
      "cell_type": "code",
      "metadata": {
        "id": "ewP67D_MdLPc"
      },
      "source": [
        "cnn_model = Sequential()"
      ],
      "execution_count": 4,
      "outputs": []
    },
    {
      "cell_type": "code",
      "metadata": {
        "id": "2fmZ6TW-dOXh"
      },
      "source": [
        "conv_layer1 = Conv2D (32, (3, 3), input_shape = (64, 64, 3), activation = 'relu')\n",
        "cnn_model.add(conv_layer1) "
      ],
      "execution_count": 5,
      "outputs": []
    },
    {
      "cell_type": "code",
      "metadata": {
        "id": "5X1w32bPdnN2"
      },
      "source": [
        "pool_layer1 = MaxPooling2D(pool_size = (2, 2))\n",
        "cnn_model.add(pool_layer1) "
      ],
      "execution_count": 6,
      "outputs": []
    },
    {
      "cell_type": "code",
      "metadata": {
        "id": "3_BrDxX8ds_M"
      },
      "source": [
        "conv_layer2 = Conv2D (32, (3, 3), input_shape = (64, 64, 3), activation = 'relu')\n",
        "cnn_model.add(conv_layer2) "
      ],
      "execution_count": 7,
      "outputs": []
    },
    {
      "cell_type": "code",
      "metadata": {
        "id": "ztLC70sZdv7E"
      },
      "source": [
        "pool_layer2 = MaxPooling2D(pool_size = (2, 2))\n",
        "cnn_model.add(pool_layer2) "
      ],
      "execution_count": 8,
      "outputs": []
    },
    {
      "cell_type": "code",
      "metadata": {
        "id": "uCpofewjdzxK"
      },
      "source": [
        "flatten_layer = Flatten()\n",
        "cnn_model.add(flatten_layer ) "
      ],
      "execution_count": 9,
      "outputs": []
    },
    {
      "cell_type": "code",
      "metadata": {
        "id": "Vzzdli7vd6rx"
      },
      "source": [
        "dense_layer1 = Dense(units = 128, activation = 'relu')\n",
        "cnn_model.add(dense_layer1) "
      ],
      "execution_count": 10,
      "outputs": []
    },
    {
      "cell_type": "code",
      "metadata": {
        "id": "zr4v-lz7eCJD"
      },
      "source": [
        "dense_layer2 = Dense(units = 1, activation = 'sigmoid')\n",
        "cnn_model.add(dense_layer2) \n"
      ],
      "execution_count": 11,
      "outputs": []
    },
    {
      "cell_type": "code",
      "metadata": {
        "id": "SniiKmK8eI8x"
      },
      "source": [
        "cnn_model.compile(optimizer = 'adam', loss = 'binary_crossentropy', metrics = ['accuracy'])"
      ],
      "execution_count": 12,
      "outputs": []
    },
    {
      "cell_type": "code",
      "metadata": {
        "id": "ObmqxEuHeScw",
        "outputId": "d29dd80d-1271-4b38-dba8-d6ac0ee29e9f",
        "colab": {
          "base_uri": "https://localhost:8080/",
          "height": 864
        }
      },
      "source": [
        "#plotting model architecture\n",
        "from tensorflow.keras.utils import plot_model\n",
        "plot_model(cnn_model, to_file='/gdrive/My Drive/datasets/model_plot1.png', show_shapes=True, show_layer_names=True)"
      ],
      "execution_count": 13,
      "outputs": [
        {
          "output_type": "execute_result",
          "data": {
            "image/png": "[encoded data removed]",
            "text/plain": [
              "<IPython.core.display.Image object>"
            ]
          },
          "metadata": {
            "tags": []
          },
          "execution_count": 13
        }
      ]
    },
    {
      "cell_type": "markdown",
      "metadata": {
        "id": "-cWozc7Ke8mY"
      },
      "source": [
        "### 6.2.2. Image Augmentation"
      ]
    },
    {
      "cell_type": "code",
      "metadata": {
        "id": "mAqm59SmeYvG"
      },
      "source": [
        "from tensorflow.keras.preprocessing.image import ImageDataGenerator\n",
        "\n",
        "train_generator  = ImageDataGenerator(rescale = 1./255, \n",
        "                                      shear_range = 0.2, \n",
        "                                      zoom_range = 0.2, \n",
        "                                      horizontal_flip = True)\n"
      ],
      "execution_count": 14,
      "outputs": []
    },
    {
      "cell_type": "code",
      "metadata": {
        "id": "yETl2xUIesdZ"
      },
      "source": [
        "test_generator = ImageDataGenerator(rescale = 1./255)"
      ],
      "execution_count": 15,
      "outputs": []
    },
    {
      "cell_type": "markdown",
      "metadata": {
        "id": "E6v1CCpKew5O"
      },
      "source": [
        "### 6.2.3. Dividing the Data into The Training and Test Sets"
      ]
    },
    {
      "cell_type": "code",
      "metadata": {
        "id": "sXffWE00fI9P",
        "outputId": "efa982c1-3c4e-4ae9-c2dd-9d657bd177ce",
        "colab": {
          "base_uri": "https://localhost:8080/"
        }
      },
      "source": [
        "training_data = train_generator.flow_from_directory(r'/gdrive/My Drive/datasets/Animal Dataset/training_set',\n",
        "                                                    target_size = (64, 64),\n",
        "                                                    batch_size = 32,\n",
        "                                                    class_mode = 'binary')\n",
        "\n",
        "test_data = test_generator.flow_from_directory('/gdrive/My Drive/datasets/Animal Dataset/test_set',\n",
        "                                             target_size = (64, 64),\n",
        "                                             batch_size = 32,\n",
        "                                             class_mode = 'binary')\n"
      ],
      "execution_count": 17,
      "outputs": [
        {
          "output_type": "stream",
          "text": [
            "Found 8000 images belonging to 2 classes.\n",
            "Found 2000 images belonging to 2 classes.\n"
          ],
          "name": "stdout"
        }
      ]
    },
    {
      "cell_type": "markdown",
      "metadata": {
        "id": "IvtA57JJgIc7"
      },
      "source": [
        "### 6.2.4. Training Convolutional Neural Network Model"
      ]
    },
    {
      "cell_type": "code",
      "metadata": {
        "id": "TVFJrALTgRT0",
        "outputId": "ba1674ed-9ebd-493a-8099-1076be6b555f",
        "colab": {
          "base_uri": "https://localhost:8080/"
        }
      },
      "source": [
        "cnn_model.fit(training_data,\n",
        "                      steps_per_epoch = (8000/32),\n",
        "                      epochs = 25,\n",
        "                      validation_data = test_data,\n",
        "                      validation_steps = (2000/32))\n"
      ],
      "execution_count": 19,
      "outputs": [
        {
          "output_type": "stream",
          "text": [
            "Epoch 1/25\n",
            "250/250 [==============================] - 1805s 7s/step - loss: 0.6730 - accuracy: 0.5840 - val_loss: 0.6345 - val_accuracy: 0.6345\n",
            "Epoch 2/25\n",
            "250/250 [==============================] - 93s 371ms/step - loss: 0.6099 - accuracy: 0.6714 - val_loss: 0.6088 - val_accuracy: 0.6910\n",
            "Epoch 3/25\n",
            "250/250 [==============================] - 93s 373ms/step - loss: 0.5671 - accuracy: 0.6994 - val_loss: 0.5849 - val_accuracy: 0.7035\n",
            "Epoch 4/25\n",
            "250/250 [==============================] - 91s 363ms/step - loss: 0.5278 - accuracy: 0.7322 - val_loss: 0.5117 - val_accuracy: 0.7455\n",
            "Epoch 5/25\n",
            "250/250 [==============================] - 91s 364ms/step - loss: 0.5014 - accuracy: 0.7484 - val_loss: 0.4852 - val_accuracy: 0.7720\n",
            "Epoch 6/25\n",
            "250/250 [==============================] - 90s 359ms/step - loss: 0.4860 - accuracy: 0.7606 - val_loss: 0.5318 - val_accuracy: 0.7445\n",
            "Epoch 7/25\n",
            "250/250 [==============================] - 91s 362ms/step - loss: 0.4753 - accuracy: 0.7714 - val_loss: 0.4736 - val_accuracy: 0.7725\n",
            "Epoch 8/25\n",
            "250/250 [==============================] - 90s 359ms/step - loss: 0.4595 - accuracy: 0.7776 - val_loss: 0.4659 - val_accuracy: 0.7820\n",
            "Epoch 9/25\n",
            "250/250 [==============================] - 89s 357ms/step - loss: 0.4498 - accuracy: 0.7851 - val_loss: 0.4852 - val_accuracy: 0.7750\n",
            "Epoch 10/25\n",
            "250/250 [==============================] - 92s 370ms/step - loss: 0.4301 - accuracy: 0.7966 - val_loss: 0.4706 - val_accuracy: 0.7760\n",
            "Epoch 11/25\n",
            "250/250 [==============================] - 90s 360ms/step - loss: 0.4229 - accuracy: 0.8020 - val_loss: 0.4620 - val_accuracy: 0.7875\n",
            "Epoch 12/25\n",
            "250/250 [==============================] - 92s 368ms/step - loss: 0.4080 - accuracy: 0.8069 - val_loss: 0.4751 - val_accuracy: 0.7810\n",
            "Epoch 13/25\n",
            "250/250 [==============================] - 89s 354ms/step - loss: 0.3914 - accuracy: 0.8183 - val_loss: 0.4811 - val_accuracy: 0.7840\n",
            "Epoch 14/25\n",
            "250/250 [==============================] - 88s 353ms/step - loss: 0.3870 - accuracy: 0.8245 - val_loss: 0.4531 - val_accuracy: 0.7870\n",
            "Epoch 15/25\n",
            "250/250 [==============================] - 86s 345ms/step - loss: 0.3819 - accuracy: 0.8267 - val_loss: 0.4559 - val_accuracy: 0.8010\n",
            "Epoch 16/25\n",
            "250/250 [==============================] - 85s 340ms/step - loss: 0.3734 - accuracy: 0.8296 - val_loss: 0.4994 - val_accuracy: 0.7760\n",
            "Epoch 17/25\n",
            "250/250 [==============================] - 91s 364ms/step - loss: 0.3582 - accuracy: 0.8378 - val_loss: 0.4783 - val_accuracy: 0.7955\n",
            "Epoch 18/25\n",
            "250/250 [==============================] - 90s 360ms/step - loss: 0.3378 - accuracy: 0.8490 - val_loss: 0.4721 - val_accuracy: 0.8020\n",
            "Epoch 19/25\n",
            "250/250 [==============================] - 92s 369ms/step - loss: 0.3285 - accuracy: 0.8558 - val_loss: 0.4478 - val_accuracy: 0.8000\n",
            "Epoch 20/25\n",
            "250/250 [==============================] - 93s 372ms/step - loss: 0.3259 - accuracy: 0.8558 - val_loss: 0.4693 - val_accuracy: 0.8010\n",
            "Epoch 21/25\n",
            "250/250 [==============================] - 96s 386ms/step - loss: 0.3094 - accuracy: 0.8633 - val_loss: 0.5065 - val_accuracy: 0.7815\n",
            "Epoch 22/25\n",
            "250/250 [==============================] - 93s 373ms/step - loss: 0.2957 - accuracy: 0.8736 - val_loss: 0.4739 - val_accuracy: 0.8015\n",
            "Epoch 23/25\n",
            "250/250 [==============================] - 93s 371ms/step - loss: 0.2866 - accuracy: 0.8759 - val_loss: 0.4887 - val_accuracy: 0.7930\n",
            "Epoch 24/25\n",
            "250/250 [==============================] - 89s 356ms/step - loss: 0.2738 - accuracy: 0.8841 - val_loss: 0.4953 - val_accuracy: 0.8060\n",
            "Epoch 25/25\n",
            "250/250 [==============================] - 89s 357ms/step - loss: 0.2712 - accuracy: 0.8849 - val_loss: 0.6055 - val_accuracy: 0.7580\n"
          ],
          "name": "stdout"
        },
        {
          "output_type": "execute_result",
          "data": {
            "text/plain": [
              "<tensorflow.python.keras.callbacks.History at 0x7f79b94356a0>"
            ]
          },
          "metadata": {
            "tags": []
          },
          "execution_count": 19
        }
      ]
    },
    {
      "cell_type": "markdown",
      "metadata": {
        "id": "gqWpTO3fgfEX"
      },
      "source": [
        "### 6.2.5. Making a Prediction on a Single Image"
      ]
    },
    {
      "cell_type": "code",
      "metadata": {
        "id": "lz9zzS-R-Fq4"
      },
      "source": [
        "import numpy as np\n",
        "from tensorflow.keras.preprocessing import image\n",
        "\n",
        "single_image = image.load_img(\"/gdrive/My Drive/datasets/Animal Dataset/single_prediction/cat_or_dog_1.jpg\", target_size= (64, 64))"
      ],
      "execution_count": 24,
      "outputs": []
    },
    {
      "cell_type": "code",
      "metadata": {
        "id": "Qj1AGghX-UAN",
        "outputId": "c044c468-cc0c-46fb-a266-46599093a688",
        "colab": {
          "base_uri": "https://localhost:8080/"
        }
      },
      "source": [
        "type(single_image)"
      ],
      "execution_count": 25,
      "outputs": [
        {
          "output_type": "execute_result",
          "data": {
            "text/plain": [
              "PIL.Image.Image"
            ]
          },
          "metadata": {
            "tags": []
          },
          "execution_count": 25
        }
      ]
    },
    {
      "cell_type": "code",
      "metadata": {
        "id": "Oy7r9pFv-xE2"
      },
      "source": [
        "single_image = image.img_to_array(single_image)\n",
        "single_image = np.expand_dims(single_image, axis = 0)\n"
      ],
      "execution_count": 27,
      "outputs": []
    },
    {
      "cell_type": "code",
      "metadata": {
        "id": "7tjEPGOt_X6R"
      },
      "source": [
        "image_result = cnn_model.predict(single_image)"
      ],
      "execution_count": 28,
      "outputs": []
    },
    {
      "cell_type": "code",
      "metadata": {
        "id": "J7w43l_5Atbb",
        "outputId": "09381c7e-ef7a-4442-ede2-2ca9c25df12f",
        "colab": {
          "base_uri": "https://localhost:8080/"
        }
      },
      "source": [
        "training_data.class_indices"
      ],
      "execution_count": 29,
      "outputs": [
        {
          "output_type": "execute_result",
          "data": {
            "text/plain": [
              "{'cats': 0, 'dogs': 1}"
            ]
          },
          "metadata": {
            "tags": []
          },
          "execution_count": 29
        }
      ]
    },
    {
      "cell_type": "code",
      "metadata": {
        "id": "e5uliHvnCEIm",
        "outputId": "49dddd34-bf22-4c36-d15b-28c926ad82dc",
        "colab": {
          "base_uri": "https://localhost:8080/"
        }
      },
      "source": [
        "print(image_result[0][0])"
      ],
      "execution_count": 30,
      "outputs": [
        {
          "output_type": "stream",
          "text": [
            "1.0\n"
          ],
          "name": "stdout"
        }
      ]
    },
    {
      "cell_type": "markdown",
      "metadata": {
        "id": "B6Ktzs33CLRu"
      },
      "source": [
        "## Exercise 6.1\n",
        "\n",
        "**Question 1**\n",
        "\n",
        "What should be the input shape of the input image to the convolutional neural network?\n",
        "\n",
        "A.\t Width, Height\n",
        "\n",
        "B.\tHeight, Width\n",
        "\n",
        "C.\tChannels, Width, Height\n",
        "\n",
        "D.\tWidth, Height, Channels\n",
        "\n",
        "\n",
        "**Answer: D**\n",
        "\n",
        "\n",
        "**Question 2**\n",
        "\n",
        "The pooling layer is used to pick correct features even if:\n",
        "\n",
        "A.\t Image is Inverted\n",
        "\n",
        "B.\tImage is distorted\n",
        "\n",
        "C.\tImage is compressed\n",
        "\n",
        "D.\tAll of the above\n",
        "\n",
        "\n",
        "**Answer: D**\n",
        "\n",
        "**Question 3**\n",
        "\n",
        "The ReLu activation function is used to introduce:\n",
        "\n",
        "A.\tLinearity\n",
        "\n",
        "B.\tNon-linearity\n",
        "\n",
        "C.\tQuadraticity\n",
        "\n",
        "D.\tNone of the above\n",
        "\n",
        "\n",
        "**Answer: B**\n"
      ]
    }
  ]
}