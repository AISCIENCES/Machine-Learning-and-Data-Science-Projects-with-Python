{
  "nbformat": 4,
  "nbformat_minor": 0,
  "metadata": {
    "colab": {
      "name": "Project 5 - Language Translation using Seq2Seq Encoder Decoder LSTM",
      "provenance": [],
      "collapsed_sections": []
    },
    "kernelspec": {
      "name": "python3",
      "display_name": "Python 3"
    },
    "accelerator": "GPU"
  },
  "cells": [
    {
      "cell_type": "markdown",
      "metadata": {
        "id": "UzJDxVrL-Ty8"
      },
      "source": [
        "## 5.1. Creating Seq2Seq Training Model for Language Translation"
      ]
    },
    {
      "cell_type": "code",
      "metadata": {
        "id": "mHDNFKF5mb46"
      },
      "source": [
        "import os, sys\n",
        "\n",
        "from keras.models import Model\n",
        "from keras.layers import Input, LSTM, GRU, Dense, Embedding\n",
        "from keras.preprocessing.text import Tokenizer\n",
        "from keras.preprocessing.sequence import pad_sequences\n",
        "from keras.utils import to_categorical\n",
        "import numpy as np\n",
        "import matplotlib.pyplot as plt"
      ],
      "execution_count": null,
      "outputs": []
    },
    {
      "cell_type": "code",
      "metadata": {
        "id": "net41qe8WVa-"
      },
      "source": [
        "BATCH_SIZE = 64\n",
        "NUM_EPOCHS = 20\n",
        "LSTM_NODES =512\n",
        "TOTAL_SENTENCES = 20000\n",
        "MAX_SEN_LENGTH = 50\n",
        "MAX_NUM_WORDS = 20000\n",
        "EMBEDDING_SIZE = 100"
      ],
      "execution_count": null,
      "outputs": []
    },
    {
      "cell_type": "code",
      "metadata": {
        "id": "PClvjzX-Wb3H",
        "outputId": "9bc101d0-2a08-4ca7-f1b0-4488fa33ed98",
        "colab": {
          "base_uri": "https://localhost:8080/",
          "height": 122
        }
      },
      "source": [
        "from google.colab import drive\n",
        "drive.mount('/gdrive')"
      ],
      "execution_count": null,
      "outputs": [
        {
          "output_type": "stream",
          "text": [
            "Go to this URL in a browser: https://accounts.google.com/o/oauth2/auth?client_id=947318989803-6bn6qk8qdgf4n4g3pfee6491hc0brc4i.apps.googleusercontent.com&redirect_uri=urn%3aietf%3awg%3aoauth%3a2.0%3aoob&response_type=code&scope=email%20https%3a%2f%2fwww.googleapis.com%2fauth%2fdocs.test%20https%3a%2f%2fwww.googleapis.com%2fauth%2fdrive%20https%3a%2f%2fwww.googleapis.com%2fauth%2fdrive.photos.readonly%20https%3a%2f%2fwww.googleapis.com%2fauth%2fpeopleapi.readonly\n",
            "\n",
            "Enter your authorization code:\n",
            "··········\n",
            "Mounted at /gdrive\n"
          ],
          "name": "stdout"
        }
      ]
    },
    {
      "cell_type": "code",
      "metadata": {
        "id": "0H308BdBWXLx"
      },
      "source": [
        "input_english_sentences = []\n",
        "output_french_sentences = []\n",
        "output_french_sentences_inputs = []\n",
        "\n",
        "count = 0\n",
        "for line in open(r'/gdrive/My Drive/datasets/fra.txt', encoding=\"utf-8\"):\n",
        "    count += 1\n",
        "\n",
        "    if count > TOTAL_SENTENCES:\n",
        "        break\n",
        "\n",
        "    if '\\t' not in line:\n",
        "        continue\n",
        "\n",
        "    input_sentence = line.rstrip().split('\\t')[0]\n",
        "    \n",
        "    output = line.rstrip().split('\\t')[1]\n",
        "    \n",
        "    \n",
        "    output_sentence = output + ' <eos>'\n",
        "    output_sentence_input = '<sos> ' + output\n",
        "\n",
        "    input_english_sentences.append(input_sentence)\n",
        "    output_french_sentences.append(output_sentence)\n",
        "    output_french_sentences_inputs.append(output_sentence_input)\n"
      ],
      "execution_count": null,
      "outputs": []
    },
    {
      "cell_type": "code",
      "metadata": {
        "id": "3T7ybR4VZJXb",
        "outputId": "94a678cd-85ca-4d9a-c663-606081e7facd",
        "colab": {
          "base_uri": "https://localhost:8080/",
          "height": 68
        }
      },
      "source": [
        "print(\"num samples input:\", len(input_english_sentences))\n",
        "print(\"num samples output:\", len(output_french_sentences))\n",
        "print(\"num samples output input:\", len(output_french_sentences_inputs))"
      ],
      "execution_count": null,
      "outputs": [
        {
          "output_type": "stream",
          "text": [
            "num samples input: 20000\n",
            "num samples output: 20000\n",
            "num samples output input: 20000\n"
          ],
          "name": "stdout"
        }
      ]
    },
    {
      "cell_type": "code",
      "metadata": {
        "id": "bsOMp7cAanMM",
        "outputId": "d84d23cc-d1bc-4c5a-98e8-c6129b330918",
        "colab": {
          "base_uri": "https://localhost:8080/",
          "height": 68
        }
      },
      "source": [
        "print(input_english_sentences[175])\n",
        "print(output_french_sentences[175])\n",
        "print(output_french_sentences_inputs[175])"
      ],
      "execution_count": null,
      "outputs": [
        {
          "output_type": "stream",
          "text": [
            "I'm shy.\n",
            "Je suis timide. <eos>\n",
            "<sos> Je suis timide.\n"
          ],
          "name": "stdout"
        }
      ]
    },
    {
      "cell_type": "code",
      "metadata": {
        "id": "a1RoOIb_ao28",
        "outputId": "caa57306-e5ef-404f-d7d6-c002d1c26f03",
        "colab": {
          "base_uri": "https://localhost:8080/",
          "height": 51
        }
      },
      "source": [
        "input_eng_tokenizer = Tokenizer(num_words=MAX_NUM_WORDS)\n",
        "input_eng_tokenizer.fit_on_texts(input_english_sentences)\n",
        "input_eng_integer_seq = input_eng_tokenizer.texts_to_sequences(input_english_sentences)\n",
        "\n",
        "word2idx_eng_inputs = input_eng_tokenizer.word_index\n",
        "print('Sum of unique words in English sentences: %s' % len(word2idx_eng_inputs))\n",
        "\n",
        "max_input_len = max(len(sen) for sen in input_eng_integer_seq)\n",
        "print(\"Length of longest sentence in English sentences: %g\" % max_input_len)"
      ],
      "execution_count": null,
      "outputs": [
        {
          "output_type": "stream",
          "text": [
            "Sum of unique words in English sentences: 3514\n",
            "Length of longest sentence in English sentences: 6\n"
          ],
          "name": "stdout"
        }
      ]
    },
    {
      "cell_type": "code",
      "metadata": {
        "id": "xgXgbmnMaqpC",
        "outputId": "90ba9629-2225-472a-f7c1-9f9e4725bb5a",
        "colab": {
          "base_uri": "https://localhost:8080/",
          "height": 51
        }
      },
      "source": [
        "output_french_tokenizer = Tokenizer(num_words=MAX_NUM_WORDS, filters='')\n",
        "output_french_tokenizer.fit_on_texts(output_french_sentences + output_french_sentences_inputs)\n",
        "output_french_integer_seq = output_french_tokenizer.texts_to_sequences(output_french_sentences)\n",
        "output_input_french_integer_seq = output_french_tokenizer.texts_to_sequences(output_french_sentences_inputs)\n",
        "\n",
        "word2idx_french_outputs = output_french_tokenizer.word_index\n",
        "print('Sum of unique words in French sentences: %s' % len(word2idx_french_outputs))\n",
        "\n",
        "num_words_output = len(word2idx_french_outputs) + 1\n",
        "max_out_len = max(len(sen) for sen in output_french_integer_seq)\n",
        "print(\"Length of longest sentence in French sentences: %g\" % max_out_len)\n"
      ],
      "execution_count": null,
      "outputs": [
        {
          "output_type": "stream",
          "text": [
            "Sum of unique words in French sentences: 9532\n",
            "Length of longest sentence in French sentences: 13\n"
          ],
          "name": "stdout"
        }
      ]
    },
    {
      "cell_type": "code",
      "metadata": {
        "id": "QAXZLftsa_-8",
        "outputId": "20aff82c-12ed-499f-8ccf-78b19e1b8421",
        "colab": {
          "base_uri": "https://localhost:8080/",
          "height": 85
        }
      },
      "source": [
        "encoder_input_eng_sequences = pad_sequences(input_eng_integer_seq, maxlen=max_input_len)\n",
        "print(\"encoder_input_eng_sequences.shape:\", encoder_input_eng_sequences.shape)\n",
        "print(\"encoder_input_eng_sequences[175]:\", encoder_input_eng_sequences[175])\n",
        "\n",
        "print(word2idx_eng_inputs[\"i'm\"])\n",
        "print(word2idx_eng_inputs[\"shy\"])"
      ],
      "execution_count": null,
      "outputs": [
        {
          "output_type": "stream",
          "text": [
            "encoder_input_eng_sequences.shape: (20000, 6)\n",
            "encoder_input_eng_sequences[175]: [  0   0   0   0   6 307]\n",
            "6\n",
            "307\n"
          ],
          "name": "stdout"
        }
      ]
    },
    {
      "cell_type": "code",
      "metadata": {
        "id": "O8FlDe40bWkE",
        "outputId": "1d018500-456c-4148-ee23-1daa22c1ba2e",
        "colab": {
          "base_uri": "https://localhost:8080/",
          "height": 119
        }
      },
      "source": [
        "decoder_input_french_sequences = pad_sequences(output_input_french_integer_seq, maxlen=max_out_len, padding='post')\n",
        "print(\"decoder_input_french_sequences.shape:\", decoder_input_french_sequences.shape)\n",
        "print(\"decoder_input_french_sequences[175]:\", decoder_input_french_sequences[175])\n",
        "\n",
        "print(word2idx_french_outputs[\"<sos>\"])\n",
        "print(word2idx_french_outputs[\"je\"])\n",
        "print(word2idx_french_outputs[\"suis\"])\n",
        "print(word2idx_french_outputs[\"timide.\"])"
      ],
      "execution_count": null,
      "outputs": [
        {
          "output_type": "stream",
          "text": [
            "decoder_input_french_sequences.shape: (20000, 13)\n",
            "decoder_input_french_sequences[175]: [  2   3   6 339   0   0   0   0   0   0   0   0   0]\n",
            "2\n",
            "3\n",
            "6\n",
            "339\n"
          ],
          "name": "stdout"
        }
      ]
    },
    {
      "cell_type": "code",
      "metadata": {
        "id": "FVZ_KPhKbZs2"
      },
      "source": [
        "decoder_output_french_sequences = pad_sequences(output_french_integer_seq, maxlen=max_out_len, padding='post')"
      ],
      "execution_count": null,
      "outputs": []
    },
    {
      "cell_type": "code",
      "metadata": {
        "id": "2xBRPl3Hb-gR"
      },
      "source": [
        "\n",
        "from numpy import array\n",
        "from numpy import asarray\n",
        "from numpy import zeros\n",
        "\n",
        "embeddings_dictionary = dict()\n",
        "\n",
        "glove_file = open(r'/gdrive/My Drive/datasets/glove.6B.100d.txt', encoding=\"utf8\")\n",
        "\n",
        "for line in glove_file:\n",
        "    records = line.split()\n",
        "    word = records[0]\n",
        "    vector_dimensions = asarray(records[1:], dtype='float32')\n",
        "    embeddings_dictionary[word] = vector_dimensions\n",
        "glove_file.close()"
      ],
      "execution_count": null,
      "outputs": []
    },
    {
      "cell_type": "code",
      "metadata": {
        "id": "GiT9BOaScAl2"
      },
      "source": [
        "num_words = min(MAX_NUM_WORDS, len(word2idx_eng_inputs) + 1)\n",
        "embedding_matrix = zeros((num_words, EMBEDDING_SIZE))\n",
        "for word, index in word2idx_eng_inputs.items():\n",
        "    embedding_vector = embeddings_dictionary.get(word)\n",
        "    if embedding_vector is not None:\n",
        "        embedding_matrix[index] = embedding_vector"
      ],
      "execution_count": null,
      "outputs": []
    },
    {
      "cell_type": "code",
      "metadata": {
        "id": "MqkU0EMYdmWy"
      },
      "source": [
        "embedding_layer = Embedding(num_words, EMBEDDING_SIZE, weights=[embedding_matrix], input_length=max_input_len)"
      ],
      "execution_count": null,
      "outputs": []
    },
    {
      "cell_type": "code",
      "metadata": {
        "id": "tpaw1_yPdHNh"
      },
      "source": [
        "decoder_one_hot_targets = np.zeros((\n",
        "        len(input_english_sentences),\n",
        "        max_out_len,\n",
        "        num_words_output\n",
        "    ),\n",
        "    dtype='float32'\n",
        ")"
      ],
      "execution_count": null,
      "outputs": []
    },
    {
      "cell_type": "code",
      "metadata": {
        "id": "UwO8ZoNXdLfI",
        "outputId": "5766b3ef-9f59-4559-ceff-d0727a06f161",
        "colab": {
          "base_uri": "https://localhost:8080/",
          "height": 34
        }
      },
      "source": [
        "decoder_one_hot_targets.shape"
      ],
      "execution_count": null,
      "outputs": [
        {
          "output_type": "execute_result",
          "data": {
            "text/plain": [
              "(20000, 13, 9533)"
            ]
          },
          "metadata": {
            "tags": []
          },
          "execution_count": 16
        }
      ]
    },
    {
      "cell_type": "code",
      "metadata": {
        "id": "cG2qF2mDdMdS"
      },
      "source": [
        "for i, d in enumerate(decoder_output_french_sequences):\n",
        "    for t, word in enumerate(d):\n",
        "        decoder_one_hot_targets[i, t, word] = 1\n",
        "        "
      ],
      "execution_count": null,
      "outputs": []
    },
    {
      "cell_type": "code",
      "metadata": {
        "id": "JAcAKrtIdhKU"
      },
      "source": [
        "encoder_inputs_eng_placeholder = Input(shape=(max_input_len,))\n",
        "x = embedding_layer(encoder_inputs_eng_placeholder)\n",
        "encoder = LSTM(LSTM_NODES, return_state=True)\n",
        "\n",
        "encoder_outputs, h, c = encoder(x)\n",
        "encoder_states = [h, c]\n"
      ],
      "execution_count": null,
      "outputs": []
    },
    {
      "cell_type": "code",
      "metadata": {
        "id": "2C0nSOFxdiZ9"
      },
      "source": [
        "decoder_inputs_french_placeholder = Input(shape=(max_out_len,))\n",
        "\n",
        "decoder_embedding = Embedding(num_words_output, LSTM_NODES)\n",
        "decoder_inputs_x = decoder_embedding(decoder_inputs_french_placeholder)\n",
        "\n",
        "decoder_lstm = LSTM(LSTM_NODES, return_sequences=True, return_state=True)\n",
        "decoder_outputs, _, _ = decoder_lstm(decoder_inputs_x, initial_state=encoder_states)\n",
        "\n",
        "###\n",
        "\n",
        "decoder_dense = Dense(num_words_output, activation='softmax')\n",
        "decoder_outputs = decoder_dense(decoder_outputs)"
      ],
      "execution_count": null,
      "outputs": []
    },
    {
      "cell_type": "code",
      "metadata": {
        "id": "7BqUaGn7drtl"
      },
      "source": [
        "model = Model([encoder_inputs_eng_placeholder,\n",
        "  decoder_inputs_french_placeholder], decoder_outputs)\n",
        "model.compile(\n",
        "    optimizer='rmsprop',\n",
        "    loss='categorical_crossentropy',\n",
        "    metrics=['accuracy']\n",
        ")"
      ],
      "execution_count": null,
      "outputs": []
    },
    {
      "cell_type": "code",
      "metadata": {
        "id": "9W5e1hNgggXV",
        "outputId": "dff04f37-e4e7-489b-e58a-1e70b60a8578",
        "colab": {
          "base_uri": "https://localhost:8080/",
          "height": 533
        }
      },
      "source": [
        "from keras.utils import plot_model\n",
        "plot_model(model, to_file='model_plot4a.png', show_shapes=True, show_layer_names=True)"
      ],
      "execution_count": null,
      "outputs": [
        {
          "output_type": "execute_result",
          "data": {
            "image/png": "[encoded data removed]",
            "text/plain": [
              "<IPython.core.display.Image object>"
            ]
          },
          "metadata": {
            "tags": []
          },
          "execution_count": 21
        }
      ]
    },
    {
      "cell_type": "code",
      "metadata": {
        "id": "0rRZd7NRdtAY",
        "outputId": "918afa32-d464-4a2f-eb02-e2c0fe7d3357",
        "colab": {
          "base_uri": "https://localhost:8080/",
          "height": 768
        }
      },
      "source": [
        "r = model.fit(\n",
        "    [encoder_input_eng_sequences, decoder_input_french_sequences],\n",
        "    decoder_one_hot_targets,\n",
        "    batch_size=BATCH_SIZE,\n",
        "    epochs=NUM_EPOCHS,\n",
        "    validation_split=0.1,\n",
        ")"
      ],
      "execution_count": null,
      "outputs": [
        {
          "output_type": "stream",
          "text": [
            "/usr/local/lib/python3.6/dist-packages/tensorflow/python/framework/indexed_slices.py:434: UserWarning: Converting sparse IndexedSlices to a dense Tensor of unknown shape. This may consume a large amount of memory.\n",
            "  \"Converting sparse IndexedSlices to a dense Tensor of unknown shape. \"\n"
          ],
          "name": "stderr"
        },
        {
          "output_type": "stream",
          "text": [
            "Train on 18000 samples, validate on 2000 samples\n",
            "Epoch 1/20\n",
            "18000/18000 [==============================] - 25s 1ms/step - loss: 1.8342 - accuracy: 0.7395 - val_loss: 1.8702 - val_accuracy: 0.7342\n",
            "Epoch 2/20\n",
            "18000/18000 [==============================] - 23s 1ms/step - loss: 1.3023 - accuracy: 0.8049 - val_loss: 1.6485 - val_accuracy: 0.7558\n",
            "Epoch 3/20\n",
            "18000/18000 [==============================] - 23s 1ms/step - loss: 1.1163 - accuracy: 0.8278 - val_loss: 1.5532 - val_accuracy: 0.7734\n",
            "Epoch 4/20\n",
            "18000/18000 [==============================] - 23s 1ms/step - loss: 0.9931 - accuracy: 0.8426 - val_loss: 1.4753 - val_accuracy: 0.7832\n",
            "Epoch 5/20\n",
            "18000/18000 [==============================] - 23s 1ms/step - loss: 0.8994 - accuracy: 0.8541 - val_loss: 1.4386 - val_accuracy: 0.7890\n",
            "Epoch 6/20\n",
            "18000/18000 [==============================] - 23s 1ms/step - loss: 0.8226 - accuracy: 0.8645 - val_loss: 1.4668 - val_accuracy: 0.7827\n",
            "Epoch 7/20\n",
            "18000/18000 [==============================] - 23s 1ms/step - loss: 0.7584 - accuracy: 0.8741 - val_loss: 1.4200 - val_accuracy: 0.7922\n",
            "Epoch 8/20\n",
            "18000/18000 [==============================] - 23s 1ms/step - loss: 0.7055 - accuracy: 0.8822 - val_loss: 1.4181 - val_accuracy: 0.7955\n",
            "Epoch 9/20\n",
            "18000/18000 [==============================] - 23s 1ms/step - loss: 0.6614 - accuracy: 0.8892 - val_loss: 1.4251 - val_accuracy: 0.7936\n",
            "Epoch 10/20\n",
            "18000/18000 [==============================] - 23s 1ms/step - loss: 0.6262 - accuracy: 0.8954 - val_loss: 1.4405 - val_accuracy: 0.7943\n",
            "Epoch 11/20\n",
            "18000/18000 [==============================] - 23s 1ms/step - loss: 0.5943 - accuracy: 0.9006 - val_loss: 1.4303 - val_accuracy: 0.7954\n",
            "Epoch 12/20\n",
            "18000/18000 [==============================] - 23s 1ms/step - loss: 0.5644 - accuracy: 0.9054 - val_loss: 1.4485 - val_accuracy: 0.7975\n",
            "Epoch 13/20\n",
            "18000/18000 [==============================] - 23s 1ms/step - loss: 0.5387 - accuracy: 0.9093 - val_loss: 1.4553 - val_accuracy: 0.7989\n",
            "Epoch 14/20\n",
            "18000/18000 [==============================] - 23s 1ms/step - loss: 0.5165 - accuracy: 0.9124 - val_loss: 1.4730 - val_accuracy: 0.7973\n",
            "Epoch 15/20\n",
            "18000/18000 [==============================] - 23s 1ms/step - loss: 0.4974 - accuracy: 0.9161 - val_loss: 1.4725 - val_accuracy: 0.7977\n",
            "Epoch 16/20\n",
            "18000/18000 [==============================] - 23s 1ms/step - loss: 0.4830 - accuracy: 0.9182 - val_loss: 1.4919 - val_accuracy: 0.7976\n",
            "Epoch 17/20\n",
            "18000/18000 [==============================] - 23s 1ms/step - loss: 0.4730 - accuracy: 0.9202 - val_loss: 1.5083 - val_accuracy: 0.7962\n",
            "Epoch 18/20\n",
            "18000/18000 [==============================] - 23s 1ms/step - loss: 0.4616 - accuracy: 0.9219 - val_loss: 1.5127 - val_accuracy: 0.7963\n",
            "Epoch 19/20\n",
            "18000/18000 [==============================] - 22s 1ms/step - loss: 0.4515 - accuracy: 0.9235 - val_loss: 1.5249 - val_accuracy: 0.7963\n",
            "Epoch 20/20\n",
            "18000/18000 [==============================] - 23s 1ms/step - loss: 0.4407 - accuracy: 0.9250 - val_loss: 1.5303 - val_accuracy: 0.7967\n"
          ],
          "name": "stdout"
        }
      ]
    },
    {
      "cell_type": "markdown",
      "metadata": {
        "id": "V2xfZnI6paYi"
      },
      "source": [
        "## 5.2. Making Predictions using Seq2Seq"
      ]
    },
    {
      "cell_type": "code",
      "metadata": {
        "id": "xWbfwN9deRVl"
      },
      "source": [
        "encoder_prediction_model = Model(encoder_inputs_eng_placeholder, encoder_states)\n",
        "\n",
        "decoder_state_input_h = Input(shape=(LSTM_NODES,))\n",
        "decoder_state_input_c = Input(shape=(LSTM_NODES,))\n",
        "decoder_states_inputs = [decoder_state_input_h, decoder_state_input_c]\n",
        "\n",
        "\n",
        "decoder_inputs_single = Input(shape=(1,))\n",
        "decoder_inputs_single_x = decoder_embedding(decoder_inputs_single)\n",
        "\n",
        "\n",
        "decoder_outputs, h, c = decoder_lstm(decoder_inputs_single_x, initial_state=decoder_states_inputs)\n",
        "\n",
        "\n",
        "\n",
        "decoder_states = [h, c]\n",
        "decoder_outputs = decoder_dense(decoder_outputs)\n",
        "\n",
        "\n",
        "decoder_model = Model(\n",
        "    [decoder_inputs_single] + decoder_states_inputs,\n",
        "    [decoder_outputs] + decoder_states\n",
        ")\n"
      ],
      "execution_count": null,
      "outputs": []
    },
    {
      "cell_type": "code",
      "metadata": {
        "id": "pLZb0EtHgx6Z",
        "outputId": "7bd58351-4e55-42cc-bedd-591a944f7e56",
        "colab": {
          "base_uri": "https://localhost:8080/",
          "height": 533
        }
      },
      "source": [
        "from keras.utils import plot_model\n",
        "plot_model(model, to_file='model_plot4a.png', show_shapes=True, show_layer_names=True)"
      ],
      "execution_count": null,
      "outputs": [
        {
          "output_type": "execute_result",
          "data": {
            "image/png": "[encoded data removed]",
            "text/plain": [
              "<IPython.core.display.Image object>"
            ]
          },
          "metadata": {
            "tags": []
          },
          "execution_count": 25
        }
      ]
    },
    {
      "cell_type": "code",
      "metadata": {
        "id": "JTp20w2NeR94"
      },
      "source": [
        "idx2word_eng_input = {v:k for k, v in word2idx_eng_inputs.items()}\n",
        "idx2word_french_target = {v:k for k, v in word2idx_french_outputs.items()}"
      ],
      "execution_count": null,
      "outputs": []
    },
    {
      "cell_type": "code",
      "metadata": {
        "id": "kChUQ5toeT8v"
      },
      "source": [
        "def perform_translation(input_seq):\n",
        "    states_value = encoder_prediction_model.predict(input_seq)\n",
        "    target_seq = np.zeros((1, 1))\n",
        "    target_seq[0, 0] = word2idx_french_outputs['<sos>']\n",
        "    eos = word2idx_french_outputs['<eos>']\n",
        "    output_sentence = []\n",
        "\n",
        "    for _ in range(max_out_len):\n",
        "        output_tokens, h, c = decoder_model.predict([target_seq] + states_value)\n",
        "        idx = np.argmax(output_tokens[0, 0, :])\n",
        "\n",
        "        if eos == idx:\n",
        "            break\n",
        "\n",
        "        word = ''\n",
        "\n",
        "        if idx > 0:\n",
        "            word = idx2word_french_target[idx]\n",
        "            output_sentence.append(word)\n",
        "\n",
        "        target_seq[0, 0] = idx\n",
        "        states_value = [h, c]\n",
        "\n",
        "    return ' '.join(output_sentence)"
      ],
      "execution_count": null,
      "outputs": []
    },
    {
      "cell_type": "code",
      "metadata": {
        "id": "Juw6uNThgDPg",
        "outputId": "b27e442f-f715-4c4a-8b01-a50f23a55a15",
        "colab": {
          "base_uri": "https://localhost:8080/",
          "height": 68
        }
      },
      "source": [
        "random_sentence_index = np.random.choice(len(input_english_sentences))\n",
        "input_eng_seq = encoder_input_eng_sequences[random_sentence_index:random_sentence_index+1]\n",
        "translation = perform_translation(input_eng_seq)\n",
        "print('-')\n",
        "print('Input Sentence:', input_english_sentences[random_sentence_index])\n",
        "print('Translated Sentence:', translation)"
      ],
      "execution_count": null,
      "outputs": [
        {
          "output_type": "stream",
          "text": [
            "-\n",
            "Input Sentence: You need sleep.\n",
            "Translated Sentence: vous avez besoin de sommeil.\n"
          ],
          "name": "stdout"
        }
      ]
    },
    {
      "cell_type": "markdown",
      "metadata": {
        "id": "YPinz4iNgFCG"
      },
      "source": [
        "## Exercise 5.1\n",
        "\n",
        "**Question 1:**\n",
        "\n",
        "This process where ground truth value of the previous output is fed as input to the next timestep, is called teacher forcing\n",
        "\n",
        "A.\tTruth Labelling\n",
        "\n",
        "B.\tInput Labelling\n",
        "\n",
        "C.\tInput Forcing\n",
        "\n",
        "D.\tTeacher Forcing\n",
        "\n",
        "**Answer: D**\n",
        "\n",
        "**Question 2:**\n",
        "\n",
        "In seq2seq model, the input to the node in the decoder layer is.\n",
        "\n",
        "A.\tHidden State from the encoder\n",
        "\n",
        "B.\tCell state from the encoder\n",
        "\n",
        "C.\tA \"start of sentence\" tag\n",
        "\n",
        "D.\tAll of the above\n",
        "\n",
        "**Answer: D**\n",
        "\n",
        "**Question 3:**\n",
        "\n",
        "To end predictions using decoder LSTM in seq2seq, what strategy is adopted?\n",
        "\n",
        "A.\tEnd sentence if maximum sentence length is achieved\n",
        "\n",
        "B.\tEnd sentence if \"end of sentence\" tag is predicted\n",
        "\n",
        "C.\tBoth A and B\n",
        "\n",
        "D.\tNone of the Above\n",
        "\n",
        "**Answer: C**\n"
      ]
    },
    {
      "cell_type": "code",
      "metadata": {
        "id": "plE6RG97I58j"
      },
      "source": [
        ""
      ],
      "execution_count": null,
      "outputs": []
    }
  ]
}